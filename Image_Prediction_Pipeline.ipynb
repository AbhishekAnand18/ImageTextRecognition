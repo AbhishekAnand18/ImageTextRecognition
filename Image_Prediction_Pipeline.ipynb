{
 "cells": [
  {
   "cell_type": "markdown",
   "metadata": {},
   "source": [
    "# Image Text Recognition Model Pipeline"
   ]
  },
  {
   "cell_type": "markdown",
   "metadata": {},
   "source": [
    "The Pipeline has 2 Functions for Output Prediction:\n",
    "1. **Single Image Prediction:** Takes a single input Image and Gives the Final Text Label as output\n",
    "2. **Multiple Image Prediction:** Takes list of Image path names of images to be predicted and prints Actual Text Label and its corresponding Predicted Output Text Label for each Image present in the Folder Path"
   ]
  },
  {
   "cell_type": "code",
   "execution_count": 1,
   "metadata": {},
   "outputs": [
    {
     "name": "stderr",
     "output_type": "stream",
     "text": [
      "Using TensorFlow backend.\n"
     ]
    }
   ],
   "source": [
    "from IPython.display import Image\n",
    "import numpy as np\n",
    "import pandas as pd\n",
    "import os \n",
    "import cv2\n",
    "from datetime import datetime\n",
    "import keras\n",
    "import random\n",
    "import matplotlib.pyplot as plt\n",
    "from collections import Counter\n",
    "import itertools\n",
    "from keras import backend as K\n",
    "from keras.layers import Input, Conv2D, MaxPool2D, Dense,MaxPooling2D,Bidirectional\n",
    "from keras.layers import AveragePooling2D, Flatten, Activation\n",
    "from keras.layers import BatchNormalization, Dropout\n",
    "from keras.layers import Concatenate, Add, Multiply, Lambda\n",
    "from keras.layers import UpSampling2D, Reshape\n",
    "from keras.layers.merge import add,concatenate\n",
    "from keras.layers import Reshape\n",
    "from keras.models import Model\n",
    "from keras.layers.recurrent import LSTM,GRU\n",
    "import tensorflow as tf\n",
    "import warnings\n",
    "warnings.filterwarnings(\"ignore\")"
   ]
  },
  {
   "cell_type": "markdown",
   "metadata": {},
   "source": [
    "### 1. Data Loading"
   ]
  },
  {
   "cell_type": "markdown",
   "metadata": {},
   "source": [
    "**Sampled_data_100.csv** file contains 100 Images sampled from Synth Text Test Data for Pipeline Implementation"
   ]
  },
  {
   "cell_type": "code",
   "execution_count": 2,
   "metadata": {},
   "outputs": [],
   "source": [
    "test_data=pd.read_csv('Sampled_data_100.csv')"
   ]
  },
  {
   "cell_type": "code",
   "execution_count": 3,
   "metadata": {},
   "outputs": [
    {
     "name": "stdout",
     "output_type": "stream",
     "text": [
      "(100, 2)\n"
     ]
    }
   ],
   "source": [
    "test_data.drop(['Unnamed: 0'],axis=1,inplace=True)\n",
    "print(test_data.shape)"
   ]
  },
  {
   "cell_type": "code",
   "execution_count": 4,
   "metadata": {},
   "outputs": [
    {
     "data": {
      "text/html": [
       "<div>\n",
       "<style scoped>\n",
       "    .dataframe tbody tr th:only-of-type {\n",
       "        vertical-align: middle;\n",
       "    }\n",
       "\n",
       "    .dataframe tbody tr th {\n",
       "        vertical-align: top;\n",
       "    }\n",
       "\n",
       "    .dataframe thead th {\n",
       "        text-align: right;\n",
       "    }\n",
       "</style>\n",
       "<table border=\"1\" class=\"dataframe\">\n",
       "  <thead>\n",
       "    <tr style=\"text-align: right;\">\n",
       "      <th></th>\n",
       "      <th>ImageName</th>\n",
       "      <th>Labels</th>\n",
       "    </tr>\n",
       "  </thead>\n",
       "  <tbody>\n",
       "    <tr>\n",
       "      <th>0</th>\n",
       "      <td>Test_data/501_nonadhesive.jpg</td>\n",
       "      <td>NONADHESIVE</td>\n",
       "    </tr>\n",
       "    <tr>\n",
       "      <th>1</th>\n",
       "      <td>Test_data/502_Aglitter.jpg</td>\n",
       "      <td>AGLITTER</td>\n",
       "    </tr>\n",
       "    <tr>\n",
       "      <th>2</th>\n",
       "      <td>Test_data/503_azania.jpg</td>\n",
       "      <td>AZANIA</td>\n",
       "    </tr>\n",
       "    <tr>\n",
       "      <th>3</th>\n",
       "      <td>Test_data/504_Pliocenes.jpg</td>\n",
       "      <td>PLIOCENES</td>\n",
       "    </tr>\n",
       "    <tr>\n",
       "      <th>4</th>\n",
       "      <td>Test_data/505_Cozenage.jpg</td>\n",
       "      <td>COZENAGE</td>\n",
       "    </tr>\n",
       "  </tbody>\n",
       "</table>\n",
       "</div>"
      ],
      "text/plain": [
       "                       ImageName       Labels\n",
       "0  Test_data/501_nonadhesive.jpg  NONADHESIVE\n",
       "1     Test_data/502_Aglitter.jpg     AGLITTER\n",
       "2       Test_data/503_azania.jpg       AZANIA\n",
       "3    Test_data/504_Pliocenes.jpg    PLIOCENES\n",
       "4     Test_data/505_Cozenage.jpg     COZENAGE"
      ]
     },
     "execution_count": 4,
     "metadata": {},
     "output_type": "execute_result"
    }
   ],
   "source": [
    "test_data.head()"
   ]
  },
  {
   "cell_type": "markdown",
   "metadata": {},
   "source": [
    "### 2. Utility Functions"
   ]
  },
  {
   "cell_type": "code",
   "execution_count": 5,
   "metadata": {},
   "outputs": [],
   "source": [
    "#Letters present in the Label Text\n",
    "letters= '0123456789ABCDEFGHIJKLMNOPQRSTUVWXYZ'"
   ]
  },
  {
   "cell_type": "markdown",
   "metadata": {},
   "source": [
    "**Integer Labels to Text Label Converter**"
   ]
  },
  {
   "cell_type": "markdown",
   "metadata": {},
   "source": [
    "Converts a list of integers to corresponding characters and combines them as a string "
   ]
  },
  {
   "cell_type": "code",
   "execution_count": 6,
   "metadata": {},
   "outputs": [],
   "source": [
    "def words_from_labels(labels):\n",
    "    \"\"\"\n",
    "    converts the list of encoded integer labels to word strings like eg. [12,10,29] returns CAT \n",
    "    \"\"\"\n",
    "    txt=[]\n",
    "    for ele in labels:\n",
    "        if ele == len(letters): # CTC blank space\n",
    "            txt.append(\"\")\n",
    "        else:\n",
    "            #print(letters[ele])\n",
    "            txt.append(letters[ele])\n",
    "    return \"\".join(txt)"
   ]
  },
  {
   "cell_type": "markdown",
   "metadata": {},
   "source": [
    "**Best Path Decoding**"
   ]
  },
  {
   "cell_type": "markdown",
   "metadata": {},
   "source": [
    "The Function Takes the final 48x37 output matrix from the model, and takes the argmax of the matrix across each column (which returns a value between 0 to 36 (ctc_blank) both included). The outputs are then merged for repeated values and gives a list of integers. The Final output integers is then converted to final output string text and it is returned by the function"
   ]
  },
  {
   "cell_type": "code",
   "execution_count": 7,
   "metadata": {},
   "outputs": [],
   "source": [
    "#https://keras.io/examples/image_ocr/\n",
    "#https://github.com/qjadud1994/CRNN-Keras\n",
    "def decode_label(out):\n",
    "    \"\"\"\n",
    "    Takes the predicted ouput matrix from the Model and returns the output text for the image\n",
    "    \"\"\"\n",
    "    # out : (1, 48, 37)\n",
    "    out_best = list(np.argmax(out[0,2:], axis=1))\n",
    "\n",
    "    out_best = [k for k, g in itertools.groupby(out_best)]  # remove overlap value\n",
    "\n",
    "    outstr=words_from_labels(out_best)\n",
    "    return outstr"
   ]
  },
  {
   "cell_type": "markdown",
   "metadata": {},
   "source": [
    "### 3. Model Parameters"
   ]
  },
  {
   "cell_type": "code",
   "execution_count": 8,
   "metadata": {},
   "outputs": [],
   "source": [
    "#image height\n",
    "img_h=32\n",
    "#image width\n",
    "img_w=170\n",
    "#image Channels\n",
    "img_c=1\n",
    "# classes for softmax with number of letters +1 for blank space in ctc\n",
    "num_classes=len(letters)+1\n",
    "batch_size=64\n",
    "max_length=15 # considering max length of ground truths labels to be 15"
   ]
  },
  {
   "cell_type": "markdown",
   "metadata": {},
   "source": [
    "### 4. Model Architecture"
   ]
  },
  {
   "cell_type": "code",
   "execution_count": 9,
   "metadata": {},
   "outputs": [],
   "source": [
    "def model_create(drop_out_rate=0.35):\n",
    "    \"\"\"\n",
    "    Builds the model which takes input as images which is used for prediction and returns the Output Matrix \n",
    "    of of dimesnions 48x37 where 48 is the number of time-steps of RNN and 37 is the length of letters \n",
    "    + 1 character for ctc blank\n",
    "    \"\"\"\n",
    "    \n",
    "    if K.image_data_format() == 'channels_first':\n",
    "        input_shape = (1, img_w, img_h)\n",
    "    else:\n",
    "        input_shape = (img_w, img_h, 1)\n",
    "       \n",
    "    model_input=Input(shape=input_shape,name='img_input',dtype='float32')\n",
    "\n",
    "    # Convolution layer \n",
    "    model = Conv2D(64, (3, 3), padding='same', name='conv1', kernel_initializer='he_normal')(model_input) \n",
    "    model = BatchNormalization()(model)\n",
    "    model = Activation('relu')(model)\n",
    "    model = MaxPooling2D(pool_size=(2, 2), name='max1')(model) \n",
    "\n",
    "    model = Conv2D(128, (3, 3), padding='same', name='conv2', kernel_initializer='he_normal')(model) \n",
    "    model = BatchNormalization()(model)\n",
    "    model = Activation('relu')(model)\n",
    "    model = MaxPooling2D(pool_size=(2, 2), name='max2')(model) \n",
    "\n",
    "    model = Conv2D(256, (3, 3), padding='same', name='conv3', kernel_initializer='he_normal')(model) \n",
    "    model = BatchNormalization()(model)\n",
    "    model = Activation('relu')(model)\n",
    "    model = Conv2D(256, (3, 3), padding='same', name='conv4', kernel_initializer='he_normal')(model)\n",
    "    model=Dropout(drop_out_rate)(model)\n",
    "    model = BatchNormalization()(model)\n",
    "    model = Activation('relu')(model)\n",
    "    model = MaxPooling2D(pool_size=(1, 2), name='max3')(model)  \n",
    "\n",
    "    model = Conv2D(512, (3, 3), padding='same', name='conv5', kernel_initializer='he_normal')(model) \n",
    "    model = BatchNormalization()(model)\n",
    "    model = Activation('relu')(model)\n",
    "    model = Conv2D(512, (3, 3), padding='same', name='conv6')(model)\n",
    "    model=Dropout(drop_out_rate)(model)\n",
    "    model = BatchNormalization()(model)\n",
    "    model = Activation('relu')(model)\n",
    "    model = MaxPooling2D(pool_size=(1, 2), name='max4')(model) \n",
    "\n",
    "    model = Conv2D(512, (2, 2), padding='same', kernel_initializer='he_normal', name='con7')(model)\n",
    "    model=Dropout(0.25)(model)\n",
    "    model = BatchNormalization()(model)\n",
    "    model = Activation('relu')(model)    \n",
    "\n",
    "    # CNN to RNN\n",
    "    model = Reshape(target_shape=((42, 1024)), name='reshape')(model)  \n",
    "    model = Dense(64, activation='relu', kernel_initializer='he_normal', name='dense1')(model)  \n",
    "\n",
    "    # RNN layer\n",
    "    model=Bidirectional(LSTM(256, return_sequences=True, kernel_initializer='he_normal'), merge_mode='sum')(model)\n",
    "    model=Bidirectional(LSTM(256, return_sequences=True, kernel_initializer='he_normal'), merge_mode='concat')(model)\n",
    "\n",
    "    # transforms RNN output to character activations:\n",
    "    model = Dense(num_classes, kernel_initializer='he_normal',name='dense2')(model) \n",
    "    y_pred = Activation('softmax', name='softmax')(model)\n",
    "\n",
    "    return Model(inputs=[model_input], outputs=y_pred)"
   ]
  },
  {
   "cell_type": "markdown",
   "metadata": {},
   "source": [
    "### 5. Image Prediction Pipeline"
   ]
  },
  {
   "cell_type": "code",
   "execution_count": 10,
   "metadata": {},
   "outputs": [],
   "source": [
    "def test_data_single_image_Prediction(model,test_img_path):\n",
    "    \"\"\"\n",
    "    Takes the best model, test data image paths, test data groud truth labels and pre-processes the input image to \n",
    "    appropriate format for the model prediction, takes the predicted output matrix and uses best path decoding to \n",
    "    generate predicted text and prints the Predicted Text Label, Time Taken for Computation\n",
    "    \"\"\"\n",
    "    start=datetime.now()\n",
    "    \n",
    "    test_img=cv2.imread(test_img_path)\n",
    "    test_img_resized=cv2.resize(test_img,(170,32))\n",
    "    test_image=test_img_resized[:,:,1]\n",
    "    test_image=test_image.T \n",
    "    test_image=np.expand_dims(test_image,axis=-1)\n",
    "    test_image=np.expand_dims(test_image, axis=0)\n",
    "    test_image=test_image/255\n",
    "    model_output=model.predict(test_image)\n",
    "    predicted_output=decode_label(model_output)\n",
    "    print(\"Predicted Text in the Image: \", predicted_output)\n",
    "    print(\"Time Taken for Processing: \",datetime.now()-start)    "
   ]
  },
  {
   "cell_type": "code",
   "execution_count": 11,
   "metadata": {},
   "outputs": [],
   "source": [
    "def test_data_multiple_image_Prediction(model,test_img_names,test_labels,total):\n",
    "    \"\"\"\n",
    "    Takes the best model, test data image paths, test data groud truth labels and pre-processes the input image to \n",
    "    appropriate format for the model prediction, takes the predicted output matrix and uses best path decoding to \n",
    "    generate predicted text and compares with ground truth text for the input and ouputs the final accuracy,\n",
    "    letter accuracy and  letter count across the entire test set of images\n",
    "    \"\"\"\n",
    "    start=datetime.now()\n",
    "    accuracy=0\n",
    "    letter_acc=0\n",
    "    letter_cnt=0\n",
    "    count=0\n",
    "    for i in range(len(test_labels)):\n",
    "        test_img=cv2.imread(test_img_names[i])\n",
    "        test_img_resized=cv2.resize(test_img,(170,32))\n",
    "        test_image=test_img_resized[:,:,1]\n",
    "        test_image=test_image.T\n",
    "        test_image=np.expand_dims(test_image,axis=-1)\n",
    "        test_image=np.expand_dims(test_image, axis=0)\n",
    "        test_image=test_image/255\n",
    "        model_output=model.predict(test_image)\n",
    "        predicted_output=decode_label(model_output)\n",
    "        actual_output=test_labels[i]\n",
    "        count+=1\n",
    "        for j in range(min(len(predicted_output),len(actual_output))):\n",
    "            if predicted_output[j]==actual_output[j]:\n",
    "                letter_acc+=1\n",
    "        letter_cnt+=max(len(predicted_output),len(actual_output))\n",
    "        if actual_output==predicted_output:\n",
    "            accuracy+=1\n",
    "        print(\"-\"*80)\n",
    "        print(\"Actual Text: \",actual_output,\"   Predicted Text: \",predicted_output)\n",
    "    print(\"=\"*80)\n",
    "    print(\"Model Output Accuracy: \",(accuracy/total)*100, \" %\")\n",
    "    print(\"Model Output Letter Accuracy: \",(letter_acc/letter_cnt)*100, \" %\")\n",
    "    print(\"Time Taken for Processing: \",datetime.now()-start)"
   ]
  },
  {
   "cell_type": "markdown",
   "metadata": {},
   "source": [
    "### 6. Loading Best Model "
   ]
  },
  {
   "cell_type": "code",
   "execution_count": 12,
   "metadata": {},
   "outputs": [
    {
     "name": "stdout",
     "output_type": "stream",
     "text": [
      "WARNING:tensorflow:From C:\\Users\\ASUS\\Anaconda3\\envs\\dl_env\\lib\\site-packages\\tensorflow\\python\\framework\\op_def_library.py:263: colocate_with (from tensorflow.python.framework.ops) is deprecated and will be removed in a future version.\n",
      "Instructions for updating:\n",
      "Colocations handled automatically by placer.\n",
      "WARNING:tensorflow:From C:\\Users\\ASUS\\Anaconda3\\envs\\dl_env\\lib\\site-packages\\keras\\backend\\tensorflow_backend.py:3445: calling dropout (from tensorflow.python.ops.nn_ops) with keep_prob is deprecated and will be removed in a future version.\n",
      "Instructions for updating:\n",
      "Please use `rate` instead of `keep_prob`. Rate should be set to `rate = 1 - keep_prob`.\n"
     ]
    }
   ],
   "source": [
    "model=model_create()"
   ]
  },
  {
   "cell_type": "code",
   "execution_count": 14,
   "metadata": {},
   "outputs": [
    {
     "name": "stdout",
     "output_type": "stream",
     "text": [
      "_________________________________________________________________\n",
      "Layer (type)                 Output Shape              Param #   \n",
      "=================================================================\n",
      "img_input (InputLayer)       (None, 170, 32, 1)        0         \n",
      "_________________________________________________________________\n",
      "conv1 (Conv2D)               (None, 170, 32, 64)       640       \n",
      "_________________________________________________________________\n",
      "batch_normalization_1 (Batch (None, 170, 32, 64)       256       \n",
      "_________________________________________________________________\n",
      "activation_1 (Activation)    (None, 170, 32, 64)       0         \n",
      "_________________________________________________________________\n",
      "max1 (MaxPooling2D)          (None, 85, 16, 64)        0         \n",
      "_________________________________________________________________\n",
      "conv2 (Conv2D)               (None, 85, 16, 128)       73856     \n",
      "_________________________________________________________________\n",
      "batch_normalization_2 (Batch (None, 85, 16, 128)       512       \n",
      "_________________________________________________________________\n",
      "activation_2 (Activation)    (None, 85, 16, 128)       0         \n",
      "_________________________________________________________________\n",
      "max2 (MaxPooling2D)          (None, 42, 8, 128)        0         \n",
      "_________________________________________________________________\n",
      "conv3 (Conv2D)               (None, 42, 8, 256)        295168    \n",
      "_________________________________________________________________\n",
      "batch_normalization_3 (Batch (None, 42, 8, 256)        1024      \n",
      "_________________________________________________________________\n",
      "activation_3 (Activation)    (None, 42, 8, 256)        0         \n",
      "_________________________________________________________________\n",
      "conv4 (Conv2D)               (None, 42, 8, 256)        590080    \n",
      "_________________________________________________________________\n",
      "dropout_1 (Dropout)          (None, 42, 8, 256)        0         \n",
      "_________________________________________________________________\n",
      "batch_normalization_4 (Batch (None, 42, 8, 256)        1024      \n",
      "_________________________________________________________________\n",
      "activation_4 (Activation)    (None, 42, 8, 256)        0         \n",
      "_________________________________________________________________\n",
      "max3 (MaxPooling2D)          (None, 42, 4, 256)        0         \n",
      "_________________________________________________________________\n",
      "conv5 (Conv2D)               (None, 42, 4, 512)        1180160   \n",
      "_________________________________________________________________\n",
      "batch_normalization_5 (Batch (None, 42, 4, 512)        2048      \n",
      "_________________________________________________________________\n",
      "activation_5 (Activation)    (None, 42, 4, 512)        0         \n",
      "_________________________________________________________________\n",
      "conv6 (Conv2D)               (None, 42, 4, 512)        2359808   \n",
      "_________________________________________________________________\n",
      "dropout_2 (Dropout)          (None, 42, 4, 512)        0         \n",
      "_________________________________________________________________\n",
      "batch_normalization_6 (Batch (None, 42, 4, 512)        2048      \n",
      "_________________________________________________________________\n",
      "activation_6 (Activation)    (None, 42, 4, 512)        0         \n",
      "_________________________________________________________________\n",
      "max4 (MaxPooling2D)          (None, 42, 2, 512)        0         \n",
      "_________________________________________________________________\n",
      "con7 (Conv2D)                (None, 42, 2, 512)        1049088   \n",
      "_________________________________________________________________\n",
      "dropout_3 (Dropout)          (None, 42, 2, 512)        0         \n",
      "_________________________________________________________________\n",
      "batch_normalization_7 (Batch (None, 42, 2, 512)        2048      \n",
      "_________________________________________________________________\n",
      "activation_7 (Activation)    (None, 42, 2, 512)        0         \n",
      "_________________________________________________________________\n",
      "reshape (Reshape)            (None, 42, 1024)          0         \n",
      "_________________________________________________________________\n",
      "dense1 (Dense)               (None, 42, 64)            65600     \n",
      "_________________________________________________________________\n",
      "bidirectional_1 (Bidirection (None, 42, 256)           657408    \n",
      "_________________________________________________________________\n",
      "bidirectional_2 (Bidirection (None, 42, 512)           1050624   \n",
      "_________________________________________________________________\n",
      "dense2 (Dense)               (None, 42, 37)            18981     \n",
      "_________________________________________________________________\n",
      "softmax (Activation)         (None, 42, 37)            0         \n",
      "=================================================================\n",
      "Total params: 7,350,373\n",
      "Trainable params: 7,345,893\n",
      "Non-trainable params: 4,480\n",
      "_________________________________________________________________\n"
     ]
    }
   ],
   "source": [
    "model.summary()"
   ]
  },
  {
   "cell_type": "markdown",
   "metadata": {},
   "source": [
    "The Best Weights for the Model are stored in BestLSTMModelWeights Folder, loading the stored best weights for Model 1 for prediction"
   ]
  },
  {
   "cell_type": "code",
   "execution_count": 15,
   "metadata": {},
   "outputs": [],
   "source": [
    "model.load_weights('Final_LSTM_Model_Best_Weights/Best_Img_recog_LSTM_Adam_model_run_weights.h5')"
   ]
  },
  {
   "cell_type": "markdown",
   "metadata": {},
   "source": [
    "### 7. Single Image Prediction"
   ]
  },
  {
   "cell_type": "code",
   "execution_count": 16,
   "metadata": {},
   "outputs": [],
   "source": [
    "test_image_1='Test_Data/3_Chronographs.jpg'"
   ]
  },
  {
   "cell_type": "code",
   "execution_count": 17,
   "metadata": {},
   "outputs": [
    {
     "data": {
      "image/jpeg": "[encoded data removed]",
      "text/plain": [
       "<IPython.core.display.Image object>"
      ]
     },
     "execution_count": 17,
     "metadata": {},
     "output_type": "execute_result"
    }
   ],
   "source": [
    "Image(test_image_1)"
   ]
  },
  {
   "cell_type": "code",
   "execution_count": 18,
   "metadata": {},
   "outputs": [
    {
     "name": "stdout",
     "output_type": "stream",
     "text": [
      "Predicted Text in the Image:  CHRONOGRAPHS\n",
      "Time Taken for Processing:  0:00:03.264209\n"
     ]
    }
   ],
   "source": [
    "test_data_single_image_Prediction(model,test_image_1)"
   ]
  },
  {
   "cell_type": "code",
   "execution_count": 19,
   "metadata": {},
   "outputs": [],
   "source": [
    "test_image_2='Test_Data/36_goldmine.jpg'"
   ]
  },
  {
   "cell_type": "code",
   "execution_count": 20,
   "metadata": {},
   "outputs": [
    {
     "data": {
      "image/jpeg": "[encoded data removed]",
      "text/plain": [
       "<IPython.core.display.Image object>"
      ]
     },
     "execution_count": 20,
     "metadata": {},
     "output_type": "execute_result"
    }
   ],
   "source": [
    "Image(test_image_2)"
   ]
  },
  {
   "cell_type": "code",
   "execution_count": 21,
   "metadata": {},
   "outputs": [
    {
     "name": "stdout",
     "output_type": "stream",
     "text": [
      "Predicted Text in the Image:  GOLDMINE\n",
      "Time Taken for Processing:  0:00:00.083438\n"
     ]
    }
   ],
   "source": [
    "test_data_single_image_Prediction(model,test_image_2)"
   ]
  },
  {
   "cell_type": "code",
   "execution_count": 22,
   "metadata": {},
   "outputs": [],
   "source": [
    "test_image_3='Test_Data/48_SCHOOLBOY.jpg'"
   ]
  },
  {
   "cell_type": "code",
   "execution_count": 23,
   "metadata": {},
   "outputs": [
    {
     "data": {
      "image/jpeg": "[encoded data removed]",
      "text/plain": [
       "<IPython.core.display.Image object>"
      ]
     },
     "execution_count": 23,
     "metadata": {},
     "output_type": "execute_result"
    }
   ],
   "source": [
    "Image(test_image_3)"
   ]
  },
  {
   "cell_type": "code",
   "execution_count": 24,
   "metadata": {},
   "outputs": [
    {
     "name": "stdout",
     "output_type": "stream",
     "text": [
      "Predicted Text in the Image:  SCHOOLBOY\n",
      "Time Taken for Processing:  0:00:00.066124\n"
     ]
    }
   ],
   "source": [
    "test_data_single_image_Prediction(model,test_image_3)"
   ]
  },
  {
   "cell_type": "markdown",
   "metadata": {},
   "source": [
    "### 8. Multiple Image Prediction"
   ]
  },
  {
   "cell_type": "code",
   "execution_count": 25,
   "metadata": {},
   "outputs": [],
   "source": [
    "test_img_paths=test_data['ImageName'].values\n",
    "test_img_labels=test_data['Labels'].values\n",
    "total=100"
   ]
  },
  {
   "cell_type": "code",
   "execution_count": 26,
   "metadata": {},
   "outputs": [
    {
     "name": "stdout",
     "output_type": "stream",
     "text": [
      "--------------------------------------------------------------------------------\n",
      "Actual Text:  NONADHESIVE    Predicted Text:  NONADHESIVE\n",
      "--------------------------------------------------------------------------------\n",
      "Actual Text:  AGLITTER    Predicted Text:  AGLITTER\n",
      "--------------------------------------------------------------------------------\n",
      "Actual Text:  AZANIA    Predicted Text:  AZANIA\n",
      "--------------------------------------------------------------------------------\n",
      "Actual Text:  PLIOCENES    Predicted Text:  PLIOCENES\n",
      "--------------------------------------------------------------------------------\n",
      "Actual Text:  COZENAGE    Predicted Text:  COZENOGE\n",
      "--------------------------------------------------------------------------------\n",
      "Actual Text:  LIEFER    Predicted Text:  LIEFER\n",
      "--------------------------------------------------------------------------------\n",
      "Actual Text:  OUTBOXES    Predicted Text:  OUTBOXES\n",
      "--------------------------------------------------------------------------------\n",
      "Actual Text:  KEYPADS    Predicted Text:  KEYPADS\n",
      "--------------------------------------------------------------------------------\n",
      "Actual Text:  BREWSTER    Predicted Text:  BREWSTER\n",
      "--------------------------------------------------------------------------------\n",
      "Actual Text:  MOLLUSK    Predicted Text:  MOLLUSK\n",
      "--------------------------------------------------------------------------------\n",
      "Actual Text:  LAVISHNESS    Predicted Text:  LAVISHNESS\n",
      "--------------------------------------------------------------------------------\n",
      "Actual Text:  POACHERS    Predicted Text:  POACHERS\n",
      "--------------------------------------------------------------------------------\n",
      "Actual Text:  POSTMISTRESS    Predicted Text:  POSTMISTRESS\n",
      "--------------------------------------------------------------------------------\n",
      "Actual Text:  TEXTURE    Predicted Text:  TEXTURE\n",
      "--------------------------------------------------------------------------------\n",
      "Actual Text:  AVENGING    Predicted Text:  AVENGING\n",
      "--------------------------------------------------------------------------------\n",
      "Actual Text:  SCUBAED    Predicted Text:  SCUBAED\n",
      "--------------------------------------------------------------------------------\n",
      "Actual Text:  MINDLESSNESS    Predicted Text:  MNDESSNESS\n",
      "--------------------------------------------------------------------------------\n",
      "Actual Text:  DELINEATE    Predicted Text:  DELINEATE\n",
      "--------------------------------------------------------------------------------\n",
      "Actual Text:  SUMMERIER    Predicted Text:  SUMMERIER\n",
      "--------------------------------------------------------------------------------\n",
      "Actual Text:  CLARA    Predicted Text:  CLARA\n",
      "--------------------------------------------------------------------------------\n",
      "Actual Text:  TARRY    Predicted Text:  FARRY\n",
      "--------------------------------------------------------------------------------\n",
      "Actual Text:  WEATHERIZES    Predicted Text:  WEATHERIZES\n",
      "--------------------------------------------------------------------------------\n",
      "Actual Text:  CIRCUMVENT    Predicted Text:  CIRCUMVENT\n",
      "--------------------------------------------------------------------------------\n",
      "Actual Text:  GOBBLER    Predicted Text:  GOBBLER\n",
      "--------------------------------------------------------------------------------\n",
      "Actual Text:  BISMUTH    Predicted Text:  BISMUTH\n",
      "--------------------------------------------------------------------------------\n",
      "Actual Text:  MOMENTARILY    Predicted Text:  MOMENTARILY\n",
      "--------------------------------------------------------------------------------\n",
      "Actual Text:  ATTENDING    Predicted Text:  ATTENDING\n",
      "--------------------------------------------------------------------------------\n",
      "Actual Text:  EARPHONES    Predicted Text:  EARRIAIMS\n",
      "--------------------------------------------------------------------------------\n",
      "Actual Text:  ABSENTLY    Predicted Text:  ABSENTLY\n",
      "--------------------------------------------------------------------------------\n",
      "Actual Text:  AHOY    Predicted Text:  AHOY\n",
      "--------------------------------------------------------------------------------\n",
      "Actual Text:  CATSUIT    Predicted Text:  CATSUIT\n",
      "--------------------------------------------------------------------------------\n",
      "Actual Text:  STRAGGLING    Predicted Text:  STRAGGLING\n",
      "--------------------------------------------------------------------------------\n",
      "Actual Text:  BUMPIER    Predicted Text:  BUMPIER\n",
      "--------------------------------------------------------------------------------\n",
      "Actual Text:  INURING    Predicted Text:  INURING\n",
      "--------------------------------------------------------------------------------\n",
      "Actual Text:  UNPEOPLE    Predicted Text:  LNPEOPLE\n",
      "--------------------------------------------------------------------------------\n",
      "Actual Text:  FLANNEL    Predicted Text:  FLANNEL\n",
      "--------------------------------------------------------------------------------\n",
      "Actual Text:  ANNUITIES    Predicted Text:  ANNUITIES\n",
      "--------------------------------------------------------------------------------\n",
      "Actual Text:  TYREE    Predicted Text:  TYREE\n",
      "--------------------------------------------------------------------------------\n",
      "Actual Text:  UNCANNIEST    Predicted Text:  UNCANNIESS\n",
      "--------------------------------------------------------------------------------\n",
      "Actual Text:  UNDECEIVING    Predicted Text:  UNSEEERROS\n",
      "--------------------------------------------------------------------------------\n",
      "Actual Text:  HOUSEBROKEN    Predicted Text:  HOUSEBROKEN\n",
      "--------------------------------------------------------------------------------\n",
      "Actual Text:  POLICEWOMAN    Predicted Text:  COLEEWORMON\n",
      "--------------------------------------------------------------------------------\n",
      "Actual Text:  GRIT    Predicted Text:  GRIT\n",
      "--------------------------------------------------------------------------------\n",
      "Actual Text:  SHOESTRINGS    Predicted Text:  SHOESTRINGS\n",
      "--------------------------------------------------------------------------------\n",
      "Actual Text:  CHISINAU    Predicted Text:  CHISINAL\n",
      "--------------------------------------------------------------------------------\n",
      "Actual Text:  HALFPENNIES    Predicted Text:  HALFPENNIES\n",
      "--------------------------------------------------------------------------------\n",
      "Actual Text:  NEWSCAST    Predicted Text:  NSWCCAST\n",
      "--------------------------------------------------------------------------------\n",
      "Actual Text:  RAILED    Predicted Text:  RAILED\n",
      "--------------------------------------------------------------------------------\n",
      "Actual Text:  PHOTOGRAPHER    Predicted Text:  PHOTOGRAPHER\n",
      "--------------------------------------------------------------------------------\n",
      "Actual Text:  REPORTEDLY    Predicted Text:  REPONTEDLY\n",
      "--------------------------------------------------------------------------------\n",
      "Actual Text:  SLAGS    Predicted Text:  SLIGS\n",
      "--------------------------------------------------------------------------------\n",
      "Actual Text:  RAVAGE    Predicted Text:  RAVAGE\n",
      "--------------------------------------------------------------------------------\n",
      "Actual Text:  PLAINTIVELY    Predicted Text:  PLAINTIVELY\n",
      "--------------------------------------------------------------------------------\n",
      "Actual Text:  YAMMER    Predicted Text:  YAMMER\n",
      "--------------------------------------------------------------------------------\n",
      "Actual Text:  RUFFIANS    Predicted Text:  RUFFIANS\n",
      "--------------------------------------------------------------------------------\n",
      "Actual Text:  VICARS    Predicted Text:  VICARS\n",
      "--------------------------------------------------------------------------------\n",
      "Actual Text:  ACYCLOVIR    Predicted Text:  ACYCLOVIR\n",
      "--------------------------------------------------------------------------------\n",
      "Actual Text:  COMBS    Predicted Text:  COMBS\n",
      "--------------------------------------------------------------------------------\n",
      "Actual Text:  NOELS    Predicted Text:  NOELS\n",
      "--------------------------------------------------------------------------------\n",
      "Actual Text:  UNBALANCE    Predicted Text:  UNBALANCE\n",
      "--------------------------------------------------------------------------------\n",
      "Actual Text:  INVENT    Predicted Text:  INVENT\n",
      "--------------------------------------------------------------------------------\n",
      "Actual Text:  CARROTY    Predicted Text:  CARROTY\n"
     ]
    },
    {
     "name": "stdout",
     "output_type": "stream",
     "text": [
      "--------------------------------------------------------------------------------\n",
      "Actual Text:  INDISSOLUBLE    Predicted Text:  INDISSOLUBLE\n",
      "--------------------------------------------------------------------------------\n",
      "Actual Text:  WIST    Predicted Text:  WIST\n",
      "--------------------------------------------------------------------------------\n",
      "Actual Text:  BACKBITER    Predicted Text:  BACKBITER\n",
      "--------------------------------------------------------------------------------\n",
      "Actual Text:  FITMENT    Predicted Text:  FITMENT\n",
      "--------------------------------------------------------------------------------\n",
      "Actual Text:  TRAMMEL    Predicted Text:  TRAMMEL\n",
      "--------------------------------------------------------------------------------\n",
      "Actual Text:  RADIATE    Predicted Text:  RADIATE\n",
      "--------------------------------------------------------------------------------\n",
      "Actual Text:  SKEPTICAL    Predicted Text:  SKEPTICAL\n",
      "--------------------------------------------------------------------------------\n",
      "Actual Text:  FINKING    Predicted Text:  FINKING\n",
      "--------------------------------------------------------------------------------\n",
      "Actual Text:  SEWER    Predicted Text:  SELWER\n",
      "--------------------------------------------------------------------------------\n",
      "Actual Text:  REPARABLE    Predicted Text:  REPARABLE\n",
      "--------------------------------------------------------------------------------\n",
      "Actual Text:  EXCEPTING    Predicted Text:  EXCEPTING\n",
      "--------------------------------------------------------------------------------\n",
      "Actual Text:  UNALIGNED    Predicted Text:  UNALIGNED\n",
      "--------------------------------------------------------------------------------\n",
      "Actual Text:  AFOOT    Predicted Text:  AFOOT\n",
      "--------------------------------------------------------------------------------\n",
      "Actual Text:  ARCHDUKES    Predicted Text:  ARCHDUKES\n",
      "--------------------------------------------------------------------------------\n",
      "Actual Text:  DOUSING    Predicted Text:  DOUSING\n",
      "--------------------------------------------------------------------------------\n",
      "Actual Text:  SEPARATIVE    Predicted Text:  SELANATIVE\n",
      "--------------------------------------------------------------------------------\n",
      "Actual Text:  RASCALS    Predicted Text:  RASCALS\n",
      "--------------------------------------------------------------------------------\n",
      "Actual Text:  WARRANTING    Predicted Text:  WARRANTING\n",
      "--------------------------------------------------------------------------------\n",
      "Actual Text:  SIGN    Predicted Text:  SIGN\n",
      "--------------------------------------------------------------------------------\n",
      "Actual Text:  OVERAGES    Predicted Text:  OVERAGES\n",
      "--------------------------------------------------------------------------------\n",
      "Actual Text:  SQUEAMISHLY    Predicted Text:  SQUEMMISHLY\n",
      "--------------------------------------------------------------------------------\n",
      "Actual Text:  JOUNCES    Predicted Text:  JOUNCES\n",
      "--------------------------------------------------------------------------------\n",
      "Actual Text:  AILING    Predicted Text:  AILING\n",
      "--------------------------------------------------------------------------------\n",
      "Actual Text:  TIPPETS    Predicted Text:  TIPPETS\n",
      "--------------------------------------------------------------------------------\n",
      "Actual Text:  LATENESS    Predicted Text:  ZATENESS\n",
      "--------------------------------------------------------------------------------\n",
      "Actual Text:  JUDICIOUSLY    Predicted Text:  JUDICIOUSLY\n",
      "--------------------------------------------------------------------------------\n",
      "Actual Text:  THRONGS    Predicted Text:  THRONGS\n",
      "--------------------------------------------------------------------------------\n",
      "Actual Text:  OUTDOES    Predicted Text:  CUTDOES\n",
      "--------------------------------------------------------------------------------\n",
      "Actual Text:  GOTHICS    Predicted Text:  GOTHICS\n",
      "--------------------------------------------------------------------------------\n",
      "Actual Text:  HURLS    Predicted Text:  HURLS\n",
      "--------------------------------------------------------------------------------\n",
      "Actual Text:  TRUED    Predicted Text:  TRUED\n",
      "--------------------------------------------------------------------------------\n",
      "Actual Text:  ASHING    Predicted Text:  ASHING\n",
      "--------------------------------------------------------------------------------\n",
      "Actual Text:  RELABELING    Predicted Text:  RELABELING\n",
      "--------------------------------------------------------------------------------\n",
      "Actual Text:  OBVIATED    Predicted Text:  OBVIATED\n",
      "--------------------------------------------------------------------------------\n",
      "Actual Text:  TRIPLET    Predicted Text:  TRIPLET\n",
      "--------------------------------------------------------------------------------\n",
      "Actual Text:  RIDERLESS    Predicted Text:  RIDERLESS\n",
      "--------------------------------------------------------------------------------\n",
      "Actual Text:  WHITENER    Predicted Text:  WHITENER\n",
      "--------------------------------------------------------------------------------\n",
      "Actual Text:  APARTMENT    Predicted Text:  APARTMENT\n",
      "================================================================================\n",
      "Model Output Accuracy:  83.0  %\n",
      "Model Output Letter Accuracy:  93.9622641509434  %\n",
      "Time Taken for Processing:  0:00:08.212124\n"
     ]
    }
   ],
   "source": [
    "test_data_multiple_image_Prediction(model,test_img_paths,test_img_labels,total)"
   ]
  }
 ],
 "metadata": {
  "kernelspec": {
   "display_name": "Python 3",
   "language": "python",
   "name": "python3"
  },
  "language_info": {
   "codemirror_mode": {
    "name": "ipython",
    "version": 3
   },
   "file_extension": ".py",
   "mimetype": "text/x-python",
   "name": "python",
   "nbconvert_exporter": "python",
   "pygments_lexer": "ipython3",
   "version": "3.6.8"
  }
 },
 "nbformat": 4,
 "nbformat_minor": 2
}
